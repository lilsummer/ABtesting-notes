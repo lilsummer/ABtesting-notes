{
 "cells": [
  {
   "cell_type": "markdown",
   "metadata": {},
   "source": [
    "#### Why this is not a poisson distribution?\n",
    "Poisson distribution assume the frequency of occurence is constant...LOL"
   ]
  },
  {
   "cell_type": "markdown",
   "metadata": {},
   "source": [
    "#### Week 1 summary\n",
    "\n",
    "* Obervational study/ Designed experiment\n",
    "* Randomized experiment"
   ]
  },
  {
   "cell_type": "markdown",
   "metadata": {},
   "source": [
    "Interpret & Recommend action is ***very important***\n",
    "(What if metric moves to the wrong direction?) \n",
    "\n",
    "(Deep dive:\n",
    "When a feature makes website very slow...\n",
    "page loading time...\n",
    "if this is true then optimize the code)\n",
    "\n",
    "(sometimes is hard to figure out why; need to dig into)\n",
    "\n",
    "*** Definition: segment analysis ***\n",
    "\n",
    "*** Many companies tweak in the middle of experiment ***"
   ]
  },
  {
   "cell_type": "markdown",
   "metadata": {},
   "source": [
    "### Life cycle of dev (very important)\n",
    "\n",
    "即使做了前面的这些步骤到后面还是可能fail..."
   ]
  },
  {
   "cell_type": "markdown",
   "metadata": {},
   "source": [
    "### When not to ab test?\n",
    "\n",
    "The father of AB test [here](https://www.quora.com/When-I-should-not-run-an-AB-test)\n",
    "\n",
    "* *** Killer new feature ***\n",
    "* Launch events: Iphoen\n",
    "* *** Survey to test user intent when high cost of implementation***\n",
    "* Recency effects （用户喜新厌旧）\n",
    "* low fidelity MVPs (minimal viable product) (直接贴一个UI出来，或者做一个video）\n",
    "* 没有用户\n",
    "* Consistency,全家人用一台电脑，hard to track users"
   ]
  },
  {
   "cell_type": "markdown",
   "metadata": {},
   "source": [
    "### Week 1 homework"
   ]
  },
  {
   "cell_type": "markdown",
   "metadata": {},
   "source": [
    "How to calculate click through rate"
   ]
  },
  {
   "cell_type": "code",
   "execution_count": 11,
   "metadata": {
    "collapsed": false
   },
   "outputs": [
    {
     "data": {
      "text/html": [
       "<div>\n",
       "<table border=\"1\" class=\"dataframe\">\n",
       "  <thead>\n",
       "    <tr style=\"text-align: right;\">\n",
       "      <th></th>\n",
       "      <th>User</th>\n",
       "      <th>Day</th>\n",
       "      <th>Pageview</th>\n",
       "      <th>Click</th>\n",
       "      <th>TRT</th>\n",
       "    </tr>\n",
       "  </thead>\n",
       "  <tbody>\n",
       "    <tr>\n",
       "      <th>0</th>\n",
       "      <td>1</td>\n",
       "      <td>1</td>\n",
       "      <td>5</td>\n",
       "      <td>0</td>\n",
       "      <td>B</td>\n",
       "    </tr>\n",
       "    <tr>\n",
       "      <th>1</th>\n",
       "      <td>1</td>\n",
       "      <td>2</td>\n",
       "      <td>1</td>\n",
       "      <td>1</td>\n",
       "      <td>B</td>\n",
       "    </tr>\n",
       "    <tr>\n",
       "      <th>2</th>\n",
       "      <td>2</td>\n",
       "      <td>1</td>\n",
       "      <td>2</td>\n",
       "      <td>0</td>\n",
       "      <td>A</td>\n",
       "    </tr>\n",
       "    <tr>\n",
       "      <th>3</th>\n",
       "      <td>2</td>\n",
       "      <td>2</td>\n",
       "      <td>1</td>\n",
       "      <td>1</td>\n",
       "      <td>A</td>\n",
       "    </tr>\n",
       "    <tr>\n",
       "      <th>4</th>\n",
       "      <td>2</td>\n",
       "      <td>3</td>\n",
       "      <td>3</td>\n",
       "      <td>3</td>\n",
       "      <td>A</td>\n",
       "    </tr>\n",
       "    <tr>\n",
       "      <th>5</th>\n",
       "      <td>3</td>\n",
       "      <td>1</td>\n",
       "      <td>20</td>\n",
       "      <td>19</td>\n",
       "      <td>B</td>\n",
       "    </tr>\n",
       "  </tbody>\n",
       "</table>\n",
       "</div>"
      ],
      "text/plain": [
       "   User  Day  Pageview  Click TRT\n",
       "0     1    1         5      0   B\n",
       "1     1    2         1      1   B\n",
       "2     2    1         2      0   A\n",
       "3     2    2         1      1   A\n",
       "4     2    3         3      3   A\n",
       "5     3    1        20     19   B"
      ]
     },
     "execution_count": 11,
     "metadata": {},
     "output_type": "execute_result"
    }
   ],
   "source": [
    "import pandas as pd\n",
    "User = pd.Series([1,1,2,2,2,3])\n",
    "Day = pd.Series([1,2,1,2,3,1])\n",
    "pageview = pd.Series([5,1,2,1,3,20])\n",
    "click =pd.Series([0,1,0,1,3,19])\n",
    "trt = pd.Series(['B','B', 'A','A', 'A', 'B'])\n",
    "compare = pd.concat([User,Day, pageview, click, trt], axis = 1)\n",
    "compare.columns = ['User', 'Day', 'Pageview', 'Click', 'TRT']\n",
    "compare"
   ]
  },
  {
   "cell_type": "code",
   "execution_count": 20,
   "metadata": {
    "collapsed": false
   },
   "outputs": [
    {
     "data": {
      "text/plain": [
       "TRT  Day  User\n",
       "A    1    2        0\n",
       "     2    2        1\n",
       "     3    2        3\n",
       "B    1    1        0\n",
       "          3       19\n",
       "     2    1        1\n",
       "Name: Click, dtype: int64"
      ]
     },
     "execution_count": 20,
     "metadata": {},
     "output_type": "execute_result"
    }
   ],
   "source": [
    "compare.groupby(['TRT', 'Day', 'User'])['Click'].apply(sum)"
   ]
  },
  {
   "cell_type": "markdown",
   "metadata": {},
   "source": [
    "### Week2"
   ]
  },
  {
   "cell_type": "markdown",
   "metadata": {},
   "source": [
    "#### What is CLT"
   ]
  },
  {
   "cell_type": "markdown",
   "metadata": {},
   "source": [
    "### Why CLT is important? (it is the underlying assumption of AB testing)"
   ]
  },
  {
   "cell_type": "markdown",
   "metadata": {},
   "source": [
    "* Violation of indepence\n",
    "    * Multiple actions by same users\n",
    "    * Interactions between users \n",
    "    * Unfair advantage (when a new feature promotes all users from one side - all sellers)\n",
    "    \n",
    "    \n",
    "* what does 'normal' mean for layperson?\n",
    "    * Very unlikely to deviate far from the mean\n",
    "\n",
    "\n",
    "* Skewness of $X_i$ somewhat small\n",
    "\n",
    "\n",
    "* How many samples are enough?\n",
    "    * Rule of thumb (number of sessions 47 sessions/day; conversion rate: fraud event, rare event could be very skewed)\n",
    "    * \n",
    "    "
   ]
  },
  {
   "cell_type": "markdown",
   "metadata": {},
   "source": [
    "### What's the big deal"
   ]
  },
  {
   "cell_type": "markdown",
   "metadata": {},
   "source": [
    "* When randomization unit and analysis unit are ***different***\n",
    "* Check variance carefully \n",
    "* Over estimate the variance -- false postive will decrease -- hard to reject $H_0$\n",
    "* CTR in user level first\n",
    "* CTR: add all the pageview together\n",
    "    * How to calculate the variance?\n",
    "    * 我知道你们公司不是用这个方法的\n",
    "    * In this experiment, the CTR is ***not*** bionomial distribution...since it is not indepent \n",
    "   "
   ]
  },
  {
   "cell_type": "markdown",
   "metadata": {},
   "source": [
    "*** Gut check!***\n",
    "\n",
    "Bootstrap :\n",
    "\n",
    "从group A 里面repeatedly sampling, use the means to estimate population mean"
   ]
  },
  {
   "cell_type": "markdown",
   "metadata": {},
   "source": [
    "#### Pros and cons of bootstrap"
   ]
  },
  {
   "cell_type": "markdown",
   "metadata": {},
   "source": [
    "#### Alternative method for bootstrap: delta method"
   ]
  },
  {
   "cell_type": "markdown",
   "metadata": {},
   "source": [
    "### Delta method\n",
    "\n",
    "X- clicks\n",
    "Y- pageview\n",
    "\n",
    "Z = (X, Y) ~ MVNorm($\\mu, \\sigma$)\n",
    "\n",
    "Ratio = X/Y is a function of (X, Y), g(Z) distribution?\n",
    "\n",
    "Var g(Z) = $g'(Z)^T V(Z) g'(Z)$"
   ]
  },
  {
   "cell_type": "markdown",
   "metadata": {},
   "source": [
    "### User level vs impression level metric"
   ]
  },
  {
   "cell_type": "markdown",
   "metadata": {},
   "source": [
    "如果这两个metric 方向不同： 说明heavy user and light user direction 不同"
   ]
  },
  {
   "cell_type": "markdown",
   "metadata": {},
   "source": [
    "### LIVE DEMO\n",
    "\n",
    "* rho: correlation between x and y\n",
    "\n",
    "* User level Var and the overall Var are *** different***\n",
    "\n",
    "* if use smaller variance, (underestimate) -- false positive will ***increase***\n",
    "\n",
    "* use Delta method to estimate the variance first -- "
   ]
  },
  {
   "cell_type": "markdown",
   "metadata": {},
   "source": [
    "* Question: if用一组用户不断的分成两组，用均值做t-test,请问p-value的分布是如何的？（uniform distribution (0, 1))\n",
    "* Question: if use the underestimated variance, what woudl the p-value distribution looks like? (false positive will increase, p-value will have spike around zero and another spike around 1)\n",
    "* HW: do AA test\n",
    "* The ***user-level var is similar to the variance from delta method***\n",
    "* Question: why under null hypothesis, p-value is uniformly distributed? (when x < 80%, the probability is 80%)\n"
   ]
  },
  {
   "cell_type": "markdown",
   "metadata": {},
   "source": [
    "* What was my null hypothesis? ( group A and group B have same CTR)"
   ]
  },
  {
   "cell_type": "markdown",
   "metadata": {},
   "source": [
    "### One-sided test and other test"
   ]
  },
  {
   "cell_type": "markdown",
   "metadata": {},
   "source": [
    "### Violation and remedies\n",
    "\n",
    "* Independence: different randomization/analysis unit: bootstrap/delta method\n",
    "* high skew remedies\n",
    "    * Transmormation: hard to interpret\n",
    "    * Bootstrap: something works\n",
    "    * Capping\n",
    "    * Exclude\n",
    "* Small samples remedies\n",
    "    * Regression\n",
    "        * Continuous\n",
    "        * Count\n",
    "            * Poisson/Negative bionomial\n",
    "            * Zero inflation \n",
    "        * May treat categorical data analysis separately\n",
    "        * Nonparameteric methods\n",
    "        * Very rare events: special treatment\n",
    "    * Traditional stats methods are you friends\n",
    "    \n",
    "    "
   ]
  },
  {
   "cell_type": "markdown",
   "metadata": {},
   "source": [
    "### A word on data quality checks\n",
    "* Pre-experimet\n",
    "    * No pre-existing imbalance in core metrics \n",
    "    * AA test across all metrics pass\n",
    "* Post experiment\n",
    "    * Treamnet exposure is as expected\n",
    "        * Sample ratios (what test to use?) -- binomial - chi-sq test\n",
    "        * Traffic on the server, bias to the results, \n"
   ]
  },
  {
   "cell_type": "markdown",
   "metadata": {},
   "source": [
    "### Pre-existing imbalance \n",
    "* Don't need to throw out AB result\n",
    "* Adjust with regression\n",
    "* Y(AB) ~ Y (AA) + trt"
   ]
  }
 ],
 "metadata": {
  "kernelspec": {
   "display_name": "Python 3",
   "language": "python",
   "name": "python3"
  },
  "language_info": {
   "codemirror_mode": {
    "name": "ipython",
    "version": 3
   },
   "file_extension": ".py",
   "mimetype": "text/x-python",
   "name": "python",
   "nbconvert_exporter": "python",
   "pygments_lexer": "ipython3",
   "version": "3.6.0"
  }
 },
 "nbformat": 4,
 "nbformat_minor": 2
}
