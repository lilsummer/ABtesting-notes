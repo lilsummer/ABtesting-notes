{
 "cells": [
  {
   "cell_type": "markdown",
   "metadata": {},
   "source": [
    "#### Which parameter in the simulation that makes delta method is the same as the overall variance?\n",
    "* rho (correlation between x and y)\n"
   ]
  },
  {
   "cell_type": "markdown",
   "metadata": {},
   "source": [
    "### SRM (sample ratio mismatch)"
   ]
  },
  {
   "cell_type": "markdown",
   "metadata": {},
   "source": [
    "* Use chi-sq test \n",
    "* `p.adjust(method = 'bonferroni, BH, holz')`"
   ]
  },
  {
   "cell_type": "markdown",
   "metadata": {},
   "source": [
    "### FP/TP deep dive"
   ]
  },
  {
   "cell_type": "markdown",
   "metadata": {},
   "source": [
    "* Confusion matrix, Type 1 error, type 2 error\n",
    "* Pvalue: how to explain it in lay language\n",
    "\n",
    "*** K 神答案： if treatment group is same as control group, we will rarely see a delta as big as 7%, roughly speaking, the 7% lift we observed is probably real***\n",
    "\n",
    "* Under null hypothesis, p value distribution is (0, 1) \n",
    "* Power = p(reject null hypothesis | alternative hypothesis is true)\n",
    "\n",
    "in lay languae: Power is 80%, if treatment is really different from ctl, we will be able to detect a differnec e4 times out of 5, and miss 1 out of 5"
   ]
  },
  {
   "cell_type": "markdown",
   "metadata": {},
   "source": [
    "#### The tradeoff between selecting power "
   ]
  },
  {
   "cell_type": "markdown",
   "metadata": {},
   "source": [
    "* When the power is very big (very large dataset), we can detect very small effect size.. but it may not have practical meaning\n",
    "* When we use low power, the expr runs faster, but we will miss the statistical significance"
   ]
  },
  {
   "cell_type": "markdown",
   "metadata": {},
   "source": [
    "### False positive and multiple testing\n",
    "\n",
    "* Adjustment\n",
    "* Peeking and sequential test: need to adjust the $\\alpha$ elvel such that the overall type1 errror rate reamisn at the desired level\n",
    "    * Sequential probability ratio test (R library: ASSISTant)\n",
    "    * 这个test原理：expand the budget of false positive\n",
    "    \n",
    "* multiple arms in an experiment (一个组的control是属于另一个组的trt)\n",
    "* Multiple segment\n",
    "    * Omnibus test\n",
    "        * Use anova  f test to test if there variance are qual \n",
    "        * Chi-sq test for exploring significnace differences between blocks of indepndent explanatory variables or their coefficients in a logistic regression\n",
    "        \n",
    "* Why bother? ***Protect family wise Type 1 error***\n",
    "* if stats significance --- at least one parameter is different from others, doesn't know which one -- test each individually to find out which"
   ]
  },
  {
   "cell_type": "markdown",
   "metadata": {},
   "source": [
    "### Getting results faster"
   ]
  },
  {
   "cell_type": "markdown",
   "metadata": {},
   "source": [
    "* Product adjustment \n",
    "* Statistical adjustment (fewer weeks)\n",
    "    * Sequntial test\n",
    "    * Variance reduction (most common)\n",
    "    * Fast surrogates"
   ]
  },
  {
   "cell_type": "markdown",
   "metadata": {},
   "source": [
    "#### Assumption for sequential test: independence and same distribution"
   ]
  },
  {
   "cell_type": "markdown",
   "metadata": {},
   "source": [
    "Sequencial test: used in clinical trial; usally satisfy independenece and same distribution\n",
    "\n",
    "**Seasonality, may affect sequential test**\n",
    "\n",
    "Sequential test usually used in **monitering** "
   ]
  },
  {
   "cell_type": "markdown",
   "metadata": {},
   "source": [
    "### Variance reduction\n",
    "\n",
    "Y ~ intercept + beta* trt\n",
    "\n",
    "Y ~ intercept + beta* trt + some other stuff\n",
    "\n",
    "How would var(beta) change?\n",
    "\n",
    "1/(1-rho*2) (?????)"
   ]
  },
  {
   "cell_type": "markdown",
   "metadata": {},
   "source": [
    "**LIVE DEMO**"
   ]
  },
  {
   "cell_type": "markdown",
   "metadata": {},
   "source": [
    "#### How to select covariate\n",
    "\n",
    "* Covariates can not have anything to do with treat ment assignment\n",
    "* Sweeep available metric DB\n",
    "* Find those that show most correlation with target metric \n",
    "    * CUPED (controlled experiment Using pre-experiment data)"
   ]
  },
  {
   "cell_type": "markdown",
   "metadata": {},
   "source": [
    "#### Pre-experiment imbalance\n",
    "Small sample problem only? (No.)"
   ]
  },
  {
   "cell_type": "markdown",
   "metadata": {},
   "source": [
    "Lift (0%) \n",
    "\n",
    "significance level (0.05)\n",
    "\n",
    "now: power (0.05)\n",
    "\n"
   ]
  },
  {
   "cell_type": "markdown",
   "metadata": {},
   "source": [
    "#### Cuped and crossover"
   ]
  },
  {
   "cell_type": "markdown",
   "metadata": {},
   "source": [
    "### Fast surrogates"
   ]
  },
  {
   "cell_type": "markdown",
   "metadata": {},
   "source": [
    "### Mrktplace and network advanced experiment"
   ]
  },
  {
   "cell_type": "markdown",
   "metadata": {},
   "source": [
    "* Min-cut\n",
    "    * Uber: use meta city as randomization unit\n",
    "    * \n",
    "* Diff-diff\n",
    "* Switchback\n",
    "    * Uber: city level dispatch radius: A/B/A/B\n",
    "    * A/wash/B/wash\n",
    "    * Airbnb: booking process is too long not suitable for switchback \n",
    "    \n",
    "* Virtual worlds\n",
    "    * 把用户分到两个世界去\n",
    "    * lower business efficiency; clean experiments\n"
   ]
  },
  {
   "cell_type": "markdown",
   "metadata": {},
   "source": [
    "#### What if the market place effect is ignored?"
   ]
  }
 ],
 "metadata": {
  "kernelspec": {
   "display_name": "Python 3",
   "language": "python",
   "name": "python3"
  },
  "language_info": {
   "codemirror_mode": {
    "name": "ipython",
    "version": 3
   },
   "file_extension": ".py",
   "mimetype": "text/x-python",
   "name": "python",
   "nbconvert_exporter": "python",
   "pygments_lexer": "ipython3",
   "version": "3.6.0"
  }
 },
 "nbformat": 4,
 "nbformat_minor": 2
}
