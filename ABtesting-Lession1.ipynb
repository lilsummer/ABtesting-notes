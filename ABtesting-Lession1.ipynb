{
 "cells": [
  {
   "cell_type": "markdown",
   "metadata": {},
   "source": [
    "## A/B testing"
   ]
  },
  {
   "cell_type": "markdown",
   "metadata": {},
   "source": [
    "Unite one\n",
    "* Why business need experimentation?\n",
    "    * Scalable and trustworthy system\n",
    "    * Prove value for your features\n",
    "* Challenges\n",
    "    * Inefficiient\n",
    "    * Wrong directionality\n",
    "* Material\n",
    "    * Udacity - ABtesting"
   ]
  },
  {
   "cell_type": "markdown",
   "metadata": {},
   "source": [
    "### Types of company\n",
    "1. Airbnb, snap - Design driven company\n",
    "2. Goog- data driven company\n",
    "3. Uber - operation driven company"
   ]
  },
  {
   "cell_type": "markdown",
   "metadata": {},
   "source": [
    "### Steps of testing"
   ]
  },
  {
   "cell_type": "markdown",
   "metadata": {},
   "source": [
    "PS: materials\n",
    "* MIT CODE, KDD, WSDM, (not quora, or random blog contetnt)\n",
    "* Be aware of your source\n"
   ]
  },
  {
   "cell_type": "markdown",
   "metadata": {},
   "source": [
    "General\n",
    "* Team has ideas\n",
    "* Prototype\n",
    "* Eng build it\n",
    "* PM wants to meaure input and show to executive\n",
    "* Ux research - qualitative research\n"
   ]
  },
  {
   "cell_type": "markdown",
   "metadata": {},
   "source": []
  },
  {
   "cell_type": "markdown",
   "metadata": {},
   "source": [
    "### Measure input"
   ]
  },
  {
   "cell_type": "markdown",
   "metadata": {},
   "source": [
    "* Last week -- 75%, this week -- 85%\n",
    "* what is the problem here?\n",
    "\n",
    "\"Confounding\" \"Time is different\" \"No randomization\""
   ]
  },
  {
   "cell_type": "markdown",
   "metadata": {},
   "source": [
    "* RMC: what is this (?)\n",
    "* Randomization\n",
    "    * Multiple treatment: 用户之间彼此会有联系\n",
    "    * (consider the dispath radius: driver/rider uber, airbnb (two-sided marketplace)\n",
    "    * ***Independence*** is a key point for randomization!\n",
    "    * Hashing for randomization\n",
    "        * md5/sha1/..etc\n",
    "        * SHA1\n",
    "            * UID - salt\n",
    "            * To int\n",
    "            * Mod 100 - use mod to separate the group: e.g. [300, 999] belongs to B, [0, 300] belongs to A"
   ]
  },
  {
   "cell_type": "markdown",
   "metadata": {},
   "source": [
    "***salt allows overlapping experiment***"
   ]
  },
  {
   "cell_type": "markdown",
   "metadata": {},
   "source": [
    "***Why not use random seed?***\n",
    "* Random seed doee not work well in distribution system\n",
    "\n",
    "*** What could go wrong?***\n",
    "1. 同一个用户实验结果不consistent\n",
    "User ID/Web ID/cookie ID/ device ID\n",
    "UserID + salt\n",
    "(Can you delete these users?)(Heavy users/)\n",
    "2. Accidental imbalance\n",
    "solution: 不断的Randomize, 不断的换salt\n"
   ]
  },
  {
   "cell_type": "markdown",
   "metadata": {},
   "source": [
    "#### How to measure?\n",
    "\n",
    "KPI: key performance indicators\n",
    "\n",
    "* Guardrails: increased conversion does not hurt revenue\n",
    "* Output/input metrics\n",
    "    * Output: conversion rate\n",
    "    * Input\n",
    "* Supporting\n",
    "    * Performance (page view time error) (i don't understand here)\n",
    "\n",
    "Event log (HDFS) -- ETL -- Scheme enforcement -- dtaa quality checks -- \n",
    "\n",
    "* Blast radius\n",
    "* Minimum 1 week\n",
    "* Limited rollout\n",
    "* Binomial distribution: $\\Delta/\\sqrt(var)$ follows t-distribution ~ normal (var = $var_A + var_B$)"
   ]
  },
  {
   "cell_type": "markdown",
   "metadata": {},
   "source": [
    "#### Metrics\n",
    "* Capping or transformation\n",
    "* CLT\n",
    "* Bootstrap\n",
    "* When effect size is fixed, sample size increases as p-value decreses"
   ]
  },
  {
   "cell_type": "markdown",
   "metadata": {},
   "source": [
    "DAGS: Directed acyclic graph\n",
    "\n",
    "* Peeking can be a problem"
   ]
  }
 ],
 "metadata": {
  "kernelspec": {
   "display_name": "Python 3",
   "language": "python",
   "name": "python3"
  },
  "language_info": {
   "codemirror_mode": {
    "name": "ipython",
    "version": 3
   },
   "file_extension": ".py",
   "mimetype": "text/x-python",
   "name": "python",
   "nbconvert_exporter": "python",
   "pygments_lexer": "ipython3",
   "version": "3.6.0"
  }
 },
 "nbformat": 4,
 "nbformat_minor": 2
}
